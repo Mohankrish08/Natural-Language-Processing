{
 "cells": [
  {
   "cell_type": "markdown",
   "id": "d5d1180c-643f-4a4d-a5a8-0314b05cf15a",
   "metadata": {},
   "source": [
    "# Importing Libraries"
   ]
  },
  {
   "cell_type": "code",
   "execution_count": 14,
   "id": "2e725746-bb5b-4bae-a661-373135a5b1f4",
   "metadata": {},
   "outputs": [],
   "source": [
    "import torch\n",
    "from transformers import AutoTokenizer, AutoModelForSequenceClassification\n",
    "import requests\n",
    "from bs4 import BeautifulSoup\n",
    "import re\n",
    "import numpy as np\n",
    "import pandas as pd"
   ]
  },
  {
   "cell_type": "markdown",
   "id": "d1930b02-4c03-406f-848a-d526f697b7e7",
   "metadata": {},
   "source": [
    "# Model"
   ]
  },
  {
   "cell_type": "code",
   "execution_count": 4,
   "id": "65c02399-65b8-4c95-8965-55d9e4020a4d",
   "metadata": {},
   "outputs": [
    {
     "data": {
      "application/vnd.jupyter.widget-view+json": {
       "model_id": "2b9936e34b4f45ccbc44d0d28d2d380f",
       "version_major": 2,
       "version_minor": 0
      },
      "text/plain": [
       "Downloading (…)okenizer_config.json:   0%|          | 0.00/39.0 [00:00<?, ?B/s]"
      ]
     },
     "metadata": {},
     "output_type": "display_data"
    },
    {
     "data": {
      "application/vnd.jupyter.widget-view+json": {
       "model_id": "1aedc85da4074a388252dc5829136bfa",
       "version_major": 2,
       "version_minor": 0
      },
      "text/plain": [
       "Downloading (…)lve/main/config.json:   0%|          | 0.00/953 [00:00<?, ?B/s]"
      ]
     },
     "metadata": {},
     "output_type": "display_data"
    },
    {
     "data": {
      "application/vnd.jupyter.widget-view+json": {
       "model_id": "fac6884663e04215a56d1fafb12948c8",
       "version_major": 2,
       "version_minor": 0
      },
      "text/plain": [
       "Downloading (…)solve/main/vocab.txt:   0%|          | 0.00/872k [00:00<?, ?B/s]"
      ]
     },
     "metadata": {},
     "output_type": "display_data"
    },
    {
     "data": {
      "application/vnd.jupyter.widget-view+json": {
       "model_id": "16c75ef4b42e49538634d89a0cb94ac4",
       "version_major": 2,
       "version_minor": 0
      },
      "text/plain": [
       "Downloading (…)cial_tokens_map.json:   0%|          | 0.00/112 [00:00<?, ?B/s]"
      ]
     },
     "metadata": {},
     "output_type": "display_data"
    },
    {
     "data": {
      "application/vnd.jupyter.widget-view+json": {
       "model_id": "0b2f63cdf0564339b7f6e01dd4528950",
       "version_major": 2,
       "version_minor": 0
      },
      "text/plain": [
       "Downloading pytorch_model.bin:   0%|          | 0.00/669M [00:00<?, ?B/s]"
      ]
     },
     "metadata": {},
     "output_type": "display_data"
    }
   ],
   "source": [
    "tokenizer = AutoTokenizer.from_pretrained('nlptown/bert-base-multilingual-uncased-sentiment')\n",
    "\n",
    "model = AutoModelForSequenceClassification.from_pretrained('nlptown/bert-base-multilingual-uncased-sentiment')"
   ]
  },
  {
   "cell_type": "code",
   "execution_count": 6,
   "id": "9d46ecca-639f-4e76-9cc4-6b3426356ed0",
   "metadata": {},
   "outputs": [
    {
     "data": {
      "text/plain": [
       "BertTokenizerFast(name_or_path='nlptown/bert-base-multilingual-uncased-sentiment', vocab_size=105879, model_max_length=512, is_fast=True, padding_side='right', truncation_side='right', special_tokens={'unk_token': '[UNK]', 'sep_token': '[SEP]', 'pad_token': '[PAD]', 'cls_token': '[CLS]', 'mask_token': '[MASK]'}, clean_up_tokenization_spaces=True)"
      ]
     },
     "execution_count": 6,
     "metadata": {},
     "output_type": "execute_result"
    }
   ],
   "source": [
    "tokenizer"
   ]
  },
  {
   "cell_type": "markdown",
   "id": "cb7d1dd2-2533-47f1-acc0-9e4223e996cd",
   "metadata": {},
   "source": [
    "# Encode and calculate the sentiment"
   ]
  },
  {
   "cell_type": "code",
   "execution_count": 7,
   "id": "e9b39d61-aaa8-45d8-8fe2-1ed631a7129e",
   "metadata": {},
   "outputs": [],
   "source": [
    "tokens = tokenizer.encode(\"Hi there, I'm feeling great!!\", return_tensors='pt')"
   ]
  },
  {
   "cell_type": "code",
   "execution_count": 11,
   "id": "06761a8e-8b51-4366-953b-ffac351c283b",
   "metadata": {},
   "outputs": [],
   "source": [
    "results = model(tokens)"
   ]
  },
  {
   "cell_type": "code",
   "execution_count": 12,
   "id": "afece5e5-600f-4c32-92da-169be13fc162",
   "metadata": {},
   "outputs": [
    {
     "data": {
      "text/plain": [
       "SequenceClassifierOutput(loss=None, logits=tensor([[-2.3318, -2.2624, -0.5070,  1.6017,  2.7476]],\n",
       "       grad_fn=<AddmmBackward0>), hidden_states=None, attentions=None)"
      ]
     },
     "execution_count": 12,
     "metadata": {},
     "output_type": "execute_result"
    }
   ],
   "source": [
    "results"
   ]
  },
  {
   "cell_type": "code",
   "execution_count": 13,
   "id": "db919244-90f2-4675-946e-2c63ec3ff625",
   "metadata": {},
   "outputs": [
    {
     "data": {
      "text/plain": [
       "tensor([[-2.3318, -2.2624, -0.5070,  1.6017,  2.7476]],\n",
       "       grad_fn=<AddmmBackward0>)"
      ]
     },
     "execution_count": 13,
     "metadata": {},
     "output_type": "execute_result"
    }
   ],
   "source": [
    "results.logits"
   ]
  },
  {
   "cell_type": "code",
   "execution_count": 18,
   "id": "c9d4838d-28d1-452b-bd7f-9f1142b11726",
   "metadata": {},
   "outputs": [
    {
     "data": {
      "text/plain": [
       "5"
      ]
     },
     "execution_count": 18,
     "metadata": {},
     "output_type": "execute_result"
    }
   ],
   "source": [
    "int(torch.argmax(results.logits))+1"
   ]
  },
  {
   "cell_type": "markdown",
   "id": "119826a7-73c3-41ab-88b9-dfddeba7041f",
   "metadata": {},
   "source": [
    "# Collecting Reviews"
   ]
  },
  {
   "cell_type": "code",
   "execution_count": 28,
   "id": "295a1de6-8c15-40a0-ac45-e2ca2a251f6c",
   "metadata": {},
   "outputs": [],
   "source": [
    "r = requests.get('https://www.trustpilot.com/review/swiggy.com')\n",
    "soup = BeautifulSoup(r.text, 'html.parser')\n",
    "regex = re.compile('.*typography_heading-s__f7029.*')\n",
    "results = soup.find_all('p', {'class': regex})\n",
    "reviews = [result.text for result in results]"
   ]
  },
  {
   "cell_type": "code",
   "execution_count": 33,
   "id": "21998576-b207-4833-8230-2e9907719edb",
   "metadata": {},
   "outputs": [],
   "source": [
    "r = requests.get('https://www.yelp.com/biz/social-brew-cafe-pyrmont')\n",
    "soup = BeautifulSoup(r.text, 'html.parser')\n",
    "regex = re.compile('.*comment.*')\n",
    "results = soup.find_all('p', {'class':regex})\n",
    "reviews = [result.text for result in results]"
   ]
  },
  {
   "cell_type": "code",
   "execution_count": 35,
   "id": "3146f8bc-b3ab-413d-b44e-4a1ed6624c38",
   "metadata": {},
   "outputs": [
    {
     "data": {
      "text/plain": [
       "[<p class=\"comment__09f24__D0cxf css-qgunke\"><span class=\"raw__09f24__T4Ezm\" lang=\"en\">Some of the best Milkshakes me and my daughter ever tasted. MMMMMM HMMMMMMMM.</span></p>,\n",
       " <p class=\"comment__09f24__D0cxf css-qgunke\"><span class=\"raw__09f24__T4Ezm\" lang=\"en\">Six of us met here for breakfast before our walk to Manly. We were enjoying visiting with each other so much that I apologize for not taking any photos. <br/>We all enjoyed our food, as well as our coffee and tea drinks.<br/>We were greeted immediately by a friendly server asking if we would like to sit inside or out. We said we would like inside, but weren't exactly sure how many were joining us yet- at least 4. We were told this was no problem, the more the merrier. A few minutes later when 4 more joined our party and we explained to the server we had 6, he just quickly switched our table. <br/>I really enjoyed my serenity tea, just what I needed after a long flight in from Sfo that morning. Everyone else were more interested in the lattes for expresso drinks. All said they were hot and delicious. <br/>2 of us ordered the avo on toast. So yummy with the beetroot... I will start adding this to mine now at home, and have fond memories for my trip to Sydney. <br/>2 friends ordered the salmon Benedict- saying it was delicious, and their go to every time they come here. <br/>2 friends had a breakfast sandwich- I'm not sure of the name. It did look delicious. <br/>Adorable cafe, friendly staff, clean restrooms<br/>Very popular with the locals. <br/>I plan to come back the next time I'm in Sydney</span></p>,\n",
       " <p class=\"comment__09f24__D0cxf css-qgunke\"><span class=\"raw__09f24__T4Ezm\" lang=\"en\">Great place with delicious food and friendly staff. It is small but has outdoor seating and a relaxed ambiance. Perfect place to enjoy a cup of coffee. I am visiting Sydney for the first time but this place seems like is a local favorite.</span></p>,\n",
       " <p class=\"comment__09f24__D0cxf css-qgunke\"><span class=\"raw__09f24__T4Ezm\" lang=\"en\">Great food amazing coffee and tea. Short walk from the harbor. Staff was very friendly</span></p>,\n",
       " <p class=\"comment__09f24__D0cxf css-qgunke\"><span class=\"raw__09f24__T4Ezm\" lang=\"en\">It was ok. Had coffee with my friends. I'm new in the area, still need to discover new places.</span></p>,\n",
       " <p class=\"comment__09f24__D0cxf css-qgunke\"><span class=\"raw__09f24__T4Ezm\" lang=\"en\">Ricotta hot cakes! These were so yummy. I ate them pretty fast and didn't share with anyone because they were that good ;). <br/><br/>I ordered a green smoothie to balance it all out. Smoothie was a nice way to end my brekkie at this restaurant. <br/><br/>Others with me ordered the salmon Benedict and the smoked salmon flatbread. They were all delicious and all plates were empty. <br/><br/>Cheers!</span></p>,\n",
       " <p class=\"comment__09f24__D0cxf css-qgunke\"><span class=\"raw__09f24__T4Ezm\" lang=\"en\">Great staff and food.  Must try is the pan fried Gnocchi!  The staff were really friendly and the coffee was good as well</span></p>,\n",
       " <p class=\"comment__09f24__D0cxf css-qgunke\"><span class=\"raw__09f24__T4Ezm\" lang=\"en\">We came for brunch twice in our week-long visit to Sydney. Everything on the menu not only sounds delicious, but is really tasty. It really gave us a sour taste of how bad breaky is in America with what's so readily available in Sydney!  Both days we went were Saturdays and there was a bit of a wait to be seated, the cafe is extremely busy for both dine-in and take-away. Service is fairly quick and servers are all friendly. The location is in Surrey Hills a couple blocks away from the bustling touristy Darling Harbor.<br/>The green smoothie is very tasty and refreshing. We tried the smoked salmon salad, the soft shell crab tacos, ricotta hotcakes, and the breaky sandwich. All were delicious, well seasoned, and a solid amount of food for the price. A definite recommend for anyone's trip into Sydney!</span></p>,\n",
       " <p class=\"comment__09f24__D0cxf css-qgunke\"><span class=\"raw__09f24__T4Ezm\" lang=\"en\">I came to Social brew cafe for brunch while exploring the city and on my way to the aquarium. I sat outside. The service was great and the food was good too!<br/><br/>I ordered smoked salmon, truffle fries, black coffee and beer.</span></p>,\n",
       " <p class=\"comment__09f24__D0cxf css-qgunke\"><span class=\"raw__09f24__T4Ezm\" lang=\"en\">It was ok. The coffee wasn't the best but it was fine. The relish on the breakfast roll was yum which did make it sing. So perhaps I just got a bad coffee but the food was good on my visit.</span></p>]"
      ]
     },
     "execution_count": 35,
     "metadata": {},
     "output_type": "execute_result"
    }
   ],
   "source": [
    "results"
   ]
  },
  {
   "cell_type": "markdown",
   "id": "af905fa9-548b-4cfd-9f10-14261dc5da5f",
   "metadata": {},
   "source": [
    "# Load Reviews into DataFrame and check the score"
   ]
  },
  {
   "cell_type": "code",
   "execution_count": 36,
   "id": "a721fc32-c8be-4204-ad69-dece2a936ec7",
   "metadata": {},
   "outputs": [],
   "source": [
    "df = pd.DataFrame(np.array(reviews), columns=['review'])"
   ]
  },
  {
   "cell_type": "code",
   "execution_count": 37,
   "id": "22adb058-fab2-47d0-8736-9bbb3aeecc15",
   "metadata": {},
   "outputs": [
    {
     "data": {
      "text/html": [
       "<div>\n",
       "<style scoped>\n",
       "    .dataframe tbody tr th:only-of-type {\n",
       "        vertical-align: middle;\n",
       "    }\n",
       "\n",
       "    .dataframe tbody tr th {\n",
       "        vertical-align: top;\n",
       "    }\n",
       "\n",
       "    .dataframe thead th {\n",
       "        text-align: right;\n",
       "    }\n",
       "</style>\n",
       "<table border=\"1\" class=\"dataframe\">\n",
       "  <thead>\n",
       "    <tr style=\"text-align: right;\">\n",
       "      <th></th>\n",
       "      <th>review</th>\n",
       "    </tr>\n",
       "  </thead>\n",
       "  <tbody>\n",
       "    <tr>\n",
       "      <th>0</th>\n",
       "      <td>Some of the best Milkshakes me and my daughter...</td>\n",
       "    </tr>\n",
       "    <tr>\n",
       "      <th>1</th>\n",
       "      <td>Six of us met here for breakfast before our wa...</td>\n",
       "    </tr>\n",
       "    <tr>\n",
       "      <th>2</th>\n",
       "      <td>Great place with delicious food and friendly s...</td>\n",
       "    </tr>\n",
       "    <tr>\n",
       "      <th>3</th>\n",
       "      <td>Great food amazing coffee and tea. Short walk ...</td>\n",
       "    </tr>\n",
       "    <tr>\n",
       "      <th>4</th>\n",
       "      <td>It was ok. Had coffee with my friends. I'm new...</td>\n",
       "    </tr>\n",
       "  </tbody>\n",
       "</table>\n",
       "</div>"
      ],
      "text/plain": [
       "                                              review\n",
       "0  Some of the best Milkshakes me and my daughter...\n",
       "1  Six of us met here for breakfast before our wa...\n",
       "2  Great place with delicious food and friendly s...\n",
       "3  Great food amazing coffee and tea. Short walk ...\n",
       "4  It was ok. Had coffee with my friends. I'm new..."
      ]
     },
     "execution_count": 37,
     "metadata": {},
     "output_type": "execute_result"
    }
   ],
   "source": [
    "df.head()"
   ]
  },
  {
   "cell_type": "code",
   "execution_count": 38,
   "id": "0986be71-f436-4843-a1da-43fff5cee9bd",
   "metadata": {},
   "outputs": [
    {
     "data": {
      "text/plain": [
       "'Some of the best Milkshakes me and my daughter ever tasted. MMMMMM HMMMMMMMM.'"
      ]
     },
     "execution_count": 38,
     "metadata": {},
     "output_type": "execute_result"
    }
   ],
   "source": [
    "df['review'].iloc[0]"
   ]
  },
  {
   "cell_type": "code",
   "execution_count": 39,
   "id": "5b8dbf09-e40f-40b7-82f7-07c4dba56480",
   "metadata": {},
   "outputs": [],
   "source": [
    "def sentiment_score(review):\n",
    "    tokens = tokenizer.encode(review, return_tensors='pt')\n",
    "    result = model(tokens)\n",
    "    return int(torch.argmax(result.logits))+1"
   ]
  },
  {
   "cell_type": "code",
   "execution_count": 41,
   "id": "7b16d341-ed1b-4525-b570-8be15c7efbb0",
   "metadata": {},
   "outputs": [],
   "source": [
    "df['sentiment'] = df['review'].apply(lambda x: sentiment_score(x[:512]))"
   ]
  },
  {
   "cell_type": "code",
   "execution_count": 42,
   "id": "79b68480-13cf-4445-b5fc-c4f55874846f",
   "metadata": {},
   "outputs": [
    {
     "data": {
      "text/plain": [
       "0    Some of the best Milkshakes me and my daughter...\n",
       "1    Six of us met here for breakfast before our wa...\n",
       "2    Great place with delicious food and friendly s...\n",
       "3    Great food amazing coffee and tea. Short walk ...\n",
       "4    It was ok. Had coffee with my friends. I'm new...\n",
       "5    Ricotta hot cakes! These were so yummy. I ate ...\n",
       "6    Great staff and food.  Must try is the pan fri...\n",
       "7    We came for brunch twice in our week-long visi...\n",
       "8    I came to Social brew cafe for brunch while ex...\n",
       "9    It was ok. The coffee wasn't the best but it w...\n",
       "Name: review, dtype: object"
      ]
     },
     "execution_count": 42,
     "metadata": {},
     "output_type": "execute_result"
    }
   ],
   "source": [
    "df['review']"
   ]
  },
  {
   "cell_type": "code",
   "execution_count": null,
   "id": "e294ae6c-dc57-43b0-842d-09f0e1854924",
   "metadata": {},
   "outputs": [],
   "source": []
  }
 ],
 "metadata": {
  "kernelspec": {
   "display_name": "Python 3 (ipykernel)",
   "language": "python",
   "name": "python3"
  },
  "language_info": {
   "codemirror_mode": {
    "name": "ipython",
    "version": 3
   },
   "file_extension": ".py",
   "mimetype": "text/x-python",
   "name": "python",
   "nbconvert_exporter": "python",
   "pygments_lexer": "ipython3",
   "version": "3.11.4"
  }
 },
 "nbformat": 4,
 "nbformat_minor": 5
}
