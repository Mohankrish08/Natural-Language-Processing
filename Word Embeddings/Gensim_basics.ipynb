{
  "nbformat": 4,
  "nbformat_minor": 0,
  "metadata": {
    "colab": {
      "provenance": [],
      "gpuType": "T4"
    },
    "kernelspec": {
      "name": "python3",
      "display_name": "Python 3"
    },
    "language_info": {
      "name": "python"
    },
    "accelerator": "GPU"
  },
  "cells": [
    {
      "cell_type": "markdown",
      "source": [
        "# Importing the Genism package\n",
        "\n",
        "It contain the pre-loaded Embeddings"
      ],
      "metadata": {
        "id": "LYMnnCUiUrz3"
      }
    },
    {
      "cell_type": "code",
      "execution_count": 1,
      "metadata": {
        "colab": {
          "base_uri": "https://localhost:8080/"
        },
        "id": "8Pa0shyUNaje",
        "outputId": "d431f7c2-8426-41af-ebc0-e7e8986259df"
      },
      "outputs": [
        {
          "output_type": "stream",
          "name": "stdout",
          "text": [
            "Requirement already satisfied: gensim in /usr/local/lib/python3.10/dist-packages (4.3.2)\n",
            "Requirement already satisfied: numpy>=1.18.5 in /usr/local/lib/python3.10/dist-packages (from gensim) (1.23.5)\n",
            "Requirement already satisfied: scipy>=1.7.0 in /usr/local/lib/python3.10/dist-packages (from gensim) (1.11.3)\n",
            "Requirement already satisfied: smart-open>=1.8.1 in /usr/local/lib/python3.10/dist-packages (from gensim) (6.4.0)\n"
          ]
        }
      ],
      "source": [
        "!pip install --upgrade gensim"
      ]
    },
    {
      "cell_type": "code",
      "source": [
        "import gensim.downloader as api\n",
        "\n",
        "info = api.info()"
      ],
      "metadata": {
        "id": "Bagfk5eANiq4"
      },
      "execution_count": 2,
      "outputs": []
    },
    {
      "cell_type": "markdown",
      "source": [
        "# From the models we used to get the model name and model data"
      ],
      "metadata": {
        "id": "BAlUi3DkVKbF"
      }
    },
    {
      "cell_type": "code",
      "source": [
        "for model_name, model_data in sorted(info['models'].items()):\n",
        "  print(\n",
        "      model_name,\n",
        "      model_data.get('num_records', -1),\n",
        "      model_data['description'][:40] + '.....'\n",
        "  )"
      ],
      "metadata": {
        "colab": {
          "base_uri": "https://localhost:8080/"
        },
        "id": "NUZB0CYFNyop",
        "outputId": "756df765-36fd-4f85-82c5-180f0b263ab7"
      },
      "execution_count": 3,
      "outputs": [
        {
          "output_type": "stream",
          "name": "stdout",
          "text": [
            "__testing_word2vec-matrix-synopsis -1 [THIS IS ONLY FOR TESTING] Word vecrors .....\n",
            "conceptnet-numberbatch-17-06-300 1917247 ConceptNet Numberbatch consists of state.....\n",
            "fasttext-wiki-news-subwords-300 999999 1 million word vectors trained on Wikipe.....\n",
            "glove-twitter-100 1193514 Pre-trained vectors based on  2B tweets,.....\n",
            "glove-twitter-200 1193514 Pre-trained vectors based on 2B tweets, .....\n",
            "glove-twitter-25 1193514 Pre-trained vectors based on 2B tweets, .....\n",
            "glove-twitter-50 1193514 Pre-trained vectors based on 2B tweets, .....\n",
            "glove-wiki-gigaword-100 400000 Pre-trained vectors based on Wikipedia 2.....\n",
            "glove-wiki-gigaword-200 400000 Pre-trained vectors based on Wikipedia 2.....\n",
            "glove-wiki-gigaword-300 400000 Pre-trained vectors based on Wikipedia 2.....\n",
            "glove-wiki-gigaword-50 400000 Pre-trained vectors based on Wikipedia 2.....\n",
            "word2vec-google-news-300 3000000 Pre-trained vectors trained on a part of.....\n",
            "word2vec-ruscorpora-300 184973 Word2vec Continuous Skipgram vectors tra.....\n"
          ]
        }
      ]
    },
    {
      "cell_type": "markdown",
      "source": [
        "# Downloading the glove twitter data"
      ],
      "metadata": {
        "id": "XXK25JI5VQ1Y"
      }
    },
    {
      "cell_type": "code",
      "source": [
        "glove = api.load('glove-twitter-100')"
      ],
      "metadata": {
        "colab": {
          "base_uri": "https://localhost:8080/"
        },
        "id": "S3Cs51qDN1lp",
        "outputId": "4bc00237-3145-418d-f3c5-5c9944b161a0"
      },
      "execution_count": 5,
      "outputs": [
        {
          "output_type": "stream",
          "name": "stdout",
          "text": [
            "[==================================================] 100.0% 387.1/387.1MB downloaded\n"
          ]
        }
      ]
    },
    {
      "cell_type": "markdown",
      "source": [
        "# Checking the similarity"
      ],
      "metadata": {
        "id": "gO6j6_a0VVXt"
      }
    },
    {
      "cell_type": "code",
      "source": [
        "glove.most_similar('tea')"
      ],
      "metadata": {
        "colab": {
          "base_uri": "https://localhost:8080/"
        },
        "id": "o-XRRvPEShJj",
        "outputId": "a7037768-0438-4a5f-b87e-49efa8c4d776"
      },
      "execution_count": 7,
      "outputs": [
        {
          "output_type": "execute_result",
          "data": {
            "text/plain": [
              "[('coffee', 0.8275876045227051),\n",
              " ('milk', 0.7451930046081543),\n",
              " ('cream', 0.7160871624946594),\n",
              " ('drink', 0.6990687251091003),\n",
              " ('beer', 0.6875389814376831),\n",
              " ('breakfast', 0.6868771314620972),\n",
              " ('ice', 0.6840262413024902),\n",
              " ('wine', 0.6791716814041138),\n",
              " ('coffe', 0.6777585744857788),\n",
              " ('juice', 0.677520215511322)]"
            ]
          },
          "metadata": {},
          "execution_count": 7
        }
      ]
    },
    {
      "cell_type": "markdown",
      "source": [
        "# Checking for the distance\n",
        "\n",
        "1. Lower the distance higher the relation.\n",
        "\n",
        "2. Higher the distance lower the relation."
      ],
      "metadata": {
        "id": "ZO2Y6I8QVYEO"
      }
    },
    {
      "cell_type": "code",
      "source": [
        "glove.distance('tea', 'coffee')"
      ],
      "metadata": {
        "colab": {
          "base_uri": "https://localhost:8080/"
        },
        "id": "hcwBFYwFULve",
        "outputId": "ab6e3c85-1c87-49aa-e4e9-17dc89fd8463"
      },
      "execution_count": 8,
      "outputs": [
        {
          "output_type": "execute_result",
          "data": {
            "text/plain": [
              "0.17241239547729492"
            ]
          },
          "metadata": {},
          "execution_count": 8
        }
      ]
    },
    {
      "cell_type": "code",
      "source": [
        "glove.distance('tea', 'car')"
      ],
      "metadata": {
        "colab": {
          "base_uri": "https://localhost:8080/"
        },
        "id": "V5UZQuw2USBm",
        "outputId": "efd13731-3ad8-43c0-f0f1-b5ddc9e4c83c"
      },
      "execution_count": 9,
      "outputs": [
        {
          "output_type": "execute_result",
          "data": {
            "text/plain": [
              "0.6637681722640991"
            ]
          },
          "metadata": {},
          "execution_count": 9
        }
      ]
    },
    {
      "cell_type": "markdown",
      "source": [
        "# Cosine similarity"
      ],
      "metadata": {
        "id": "R7fQWMQYVqT9"
      }
    },
    {
      "cell_type": "code",
      "source": [
        "glove.most_similar_cosmul(positive=['king', 'women'], negative=['man'])"
      ],
      "metadata": {
        "colab": {
          "base_uri": "https://localhost:8080/"
        },
        "id": "kHxlO7UwUVWN",
        "outputId": "c5ff654d-f457-4112-c317-c6a563f4cfcd"
      },
      "execution_count": 10,
      "outputs": [
        {
          "output_type": "execute_result",
          "data": {
            "text/plain": [
              "[('royal', 0.9480992555618286),\n",
              " ('queen', 0.8974658846855164),\n",
              " ('african', 0.8896613717079163),\n",
              " ('american', 0.8735426068305969),\n",
              " ('heritage', 0.8707107305526733),\n",
              " ('republic', 0.8638789653778076),\n",
              " ('luxury', 0.858354389667511),\n",
              " ('goddess', 0.85495924949646),\n",
              " ('british', 0.8545292615890503),\n",
              " ('egyptian', 0.8537889122962952)]"
            ]
          },
          "metadata": {},
          "execution_count": 10
        }
      ]
    },
    {
      "cell_type": "code",
      "source": [
        "glove.most_similar_cosmul(positive=['restaurant', 'cocktail'], negative=['dinner'])"
      ],
      "metadata": {
        "colab": {
          "base_uri": "https://localhost:8080/"
        },
        "id": "wD9gMQPFUf32",
        "outputId": "c5a24efb-625f-46c7-e991-fc5823afdf73"
      },
      "execution_count": 11,
      "outputs": [
        {
          "output_type": "execute_result",
          "data": {
            "text/plain": [
              "[('luxe', 0.900102436542511),\n",
              " ('brewery', 0.8867289423942566),\n",
              " ('boutique', 0.8790872693061829),\n",
              " ('martini', 0.8758053779602051),\n",
              " ('bistro', 0.8748316168785095),\n",
              " ('tavern', 0.8731087446212769),\n",
              " ('fabrik', 0.872872531414032),\n",
              " ('pub', 0.8721895813941956),\n",
              " ('cocktails', 0.8671528100967407),\n",
              " ('lounge', 0.8648101687431335)]"
            ]
          },
          "metadata": {},
          "execution_count": 11
        }
      ]
    },
    {
      "cell_type": "code",
      "source": [],
      "metadata": {
        "id": "BWvVqYItUpz6"
      },
      "execution_count": null,
      "outputs": []
    }
  ]
}